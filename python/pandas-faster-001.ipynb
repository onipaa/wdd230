{
 "cells": [
  {
   "cell_type": "code",
   "execution_count": 20,
   "metadata": {},
   "outputs": [
    {
     "data": {
      "text/html": [
       "<div>\n",
       "<style scoped>\n",
       "    .dataframe tbody tr th:only-of-type {\n",
       "        vertical-align: middle;\n",
       "    }\n",
       "\n",
       "    .dataframe tbody tr th {\n",
       "        vertical-align: top;\n",
       "    }\n",
       "\n",
       "    .dataframe thead th {\n",
       "        text-align: right;\n",
       "    }\n",
       "</style>\n",
       "<table border=\"1\" class=\"dataframe\">\n",
       "  <thead>\n",
       "    <tr style=\"text-align: right;\">\n",
       "      <th></th>\n",
       "      <th>age</th>\n",
       "      <th>time_in_bed</th>\n",
       "      <th>pct_sleeping</th>\n",
       "      <th>favorite_food</th>\n",
       "      <th>hate_food</th>\n",
       "    </tr>\n",
       "  </thead>\n",
       "  <tbody>\n",
       "    <tr>\n",
       "      <th>0</th>\n",
       "      <td>81</td>\n",
       "      <td>7</td>\n",
       "      <td>0.205281</td>\n",
       "      <td>Ice Cream</td>\n",
       "      <td>Broccoli</td>\n",
       "    </tr>\n",
       "    <tr>\n",
       "      <th>1</th>\n",
       "      <td>14</td>\n",
       "      <td>0</td>\n",
       "      <td>0.519759</td>\n",
       "      <td>Pizza</td>\n",
       "      <td>Candy Corn</td>\n",
       "    </tr>\n",
       "    <tr>\n",
       "      <th>2</th>\n",
       "      <td>25</td>\n",
       "      <td>1</td>\n",
       "      <td>0.585299</td>\n",
       "      <td>Taco</td>\n",
       "      <td>Broccoli</td>\n",
       "    </tr>\n",
       "    <tr>\n",
       "      <th>3</th>\n",
       "      <td>89</td>\n",
       "      <td>8</td>\n",
       "      <td>0.738057</td>\n",
       "      <td>Taco</td>\n",
       "      <td>Broccoli</td>\n",
       "    </tr>\n",
       "    <tr>\n",
       "      <th>4</th>\n",
       "      <td>70</td>\n",
       "      <td>7</td>\n",
       "      <td>0.301137</td>\n",
       "      <td>Pizza</td>\n",
       "      <td>Eggs</td>\n",
       "    </tr>\n",
       "    <tr>\n",
       "      <th>...</th>\n",
       "      <td>...</td>\n",
       "      <td>...</td>\n",
       "      <td>...</td>\n",
       "      <td>...</td>\n",
       "      <td>...</td>\n",
       "    </tr>\n",
       "    <tr>\n",
       "      <th>9995</th>\n",
       "      <td>66</td>\n",
       "      <td>2</td>\n",
       "      <td>0.363126</td>\n",
       "      <td>Pizza</td>\n",
       "      <td>Eggs</td>\n",
       "    </tr>\n",
       "    <tr>\n",
       "      <th>9996</th>\n",
       "      <td>24</td>\n",
       "      <td>5</td>\n",
       "      <td>0.123394</td>\n",
       "      <td>Pizza</td>\n",
       "      <td>Broccoli</td>\n",
       "    </tr>\n",
       "    <tr>\n",
       "      <th>9997</th>\n",
       "      <td>85</td>\n",
       "      <td>2</td>\n",
       "      <td>0.445857</td>\n",
       "      <td>Taco</td>\n",
       "      <td>Broccoli</td>\n",
       "    </tr>\n",
       "    <tr>\n",
       "      <th>9998</th>\n",
       "      <td>23</td>\n",
       "      <td>0</td>\n",
       "      <td>0.871449</td>\n",
       "      <td>Ice Cream</td>\n",
       "      <td>Eggs</td>\n",
       "    </tr>\n",
       "    <tr>\n",
       "      <th>9999</th>\n",
       "      <td>34</td>\n",
       "      <td>4</td>\n",
       "      <td>0.598879</td>\n",
       "      <td>Ice Cream</td>\n",
       "      <td>Candy Corn</td>\n",
       "    </tr>\n",
       "  </tbody>\n",
       "</table>\n",
       "<p>10000 rows × 5 columns</p>\n",
       "</div>"
      ],
      "text/plain": [
       "      age  time_in_bed  pct_sleeping favorite_food   hate_food\n",
       "0      81            7      0.205281     Ice Cream    Broccoli\n",
       "1      14            0      0.519759         Pizza  Candy Corn\n",
       "2      25            1      0.585299          Taco    Broccoli\n",
       "3      89            8      0.738057          Taco    Broccoli\n",
       "4      70            7      0.301137         Pizza        Eggs\n",
       "...   ...          ...           ...           ...         ...\n",
       "9995   66            2      0.363126         Pizza        Eggs\n",
       "9996   24            5      0.123394         Pizza    Broccoli\n",
       "9997   85            2      0.445857          Taco    Broccoli\n",
       "9998   23            0      0.871449     Ice Cream        Eggs\n",
       "9999   34            4      0.598879     Ice Cream  Candy Corn\n",
       "\n",
       "[10000 rows x 5 columns]"
      ]
     },
     "execution_count": 20,
     "metadata": {},
     "output_type": "execute_result"
    }
   ],
   "source": [
    "#!/bin/python3\n",
    "\n",
    "## Setup data set. For now, I'll use 100 because I don't like waiting during\n",
    "## Each iteration.\n",
    "import pandas as pd\n",
    "import numpy as np\n",
    "\n",
    "def get_data ( size = 10000 ):\n",
    "    df = pd.DataFrame()\n",
    "\n",
    "    df [ 'age'           ] = np.random.randint ( 0, 100, size )\n",
    "    df [ 'time_in_bed'   ] = np.random.randint ( 0, 9, size )\n",
    "    df [ 'pct_sleeping'  ] = np.random.rand (size)\n",
    "    df [ 'favorite_food' ] = np.random.choice ( ['Pizza', 'Taco', 'Ice Cream'], size )\n",
    "    df [ 'hate_food'     ] = np.random.choice ( ['Broccoli', 'Candy Corn', 'Eggs'], size )\n",
    "\n",
    "    return df\n",
    "\n",
    "## Some problem statement:\n",
    "## Reward Calculation\n",
    "## If person was in bed >= 5 hours, and slept >= 50% -> give favorite food\n",
    "## If person is >= 90 years old -> give them favorite food anyway.\n",
    "## Else -> give hate food\n",
    "\n",
    "get_data()"
   ]
  },
  {
   "attachments": {},
   "cell_type": "markdown",
   "metadata": {},
   "source": [
    "## create a function to give rewards based on the time in bed and percent sleeping."
   ]
  },
  {
   "cell_type": "code",
   "execution_count": 21,
   "metadata": {},
   "outputs": [],
   "source": [
    "def give_reward ( row ):\n",
    "    if row ['age'] >= 90:\n",
    "        return row['favorite_food']\n",
    "    if (row ['time_in_bed'] > 5 ) & ( row [ 'pct_sleeping' ] > 0.5 ):\n",
    "        return row['favorite_food']\n",
    "    \n",
    "    return ['hate_food']"
   ]
  },
  {
   "attachments": {},
   "cell_type": "markdown",
   "metadata": {},
   "source": [
    "## Loops (slowest)"
   ]
  },
  {
   "cell_type": "code",
   "execution_count": 22,
   "metadata": {},
   "outputs": [],
   "source": [
    "## slowest\n",
    "%timeit\n",
    "df = get_data ( 10000 )\n",
    "for index, row in df.iterrows():\n",
    "    df.loc [ index, 'reward' ] = give_reward ( row )\n"
   ]
  },
  {
   "attachments": {},
   "cell_type": "markdown",
   "metadata": {},
   "source": [
    "## fast - apply method"
   ]
  },
  {
   "cell_type": "code",
   "execution_count": 23,
   "metadata": {},
   "outputs": [
    {
     "data": {
      "text/plain": [
       "0             Pizza\n",
       "1              Taco\n",
       "2             Pizza\n",
       "3         Ice Cream\n",
       "4       [hate_food]\n",
       "           ...     \n",
       "9995    [hate_food]\n",
       "9996           Taco\n",
       "9997      Ice Cream\n",
       "9998    [hate_food]\n",
       "9999    [hate_food]\n",
       "Length: 10000, dtype: object"
      ]
     },
     "execution_count": 23,
     "metadata": {},
     "output_type": "execute_result"
    }
   ],
   "source": [
    "%timeit\n",
    "df = get_data ()\n",
    "df.apply(give_reward, axis=1)"
   ]
  }
 ],
 "metadata": {
  "kernelspec": {
   "display_name": "Python 3",
   "language": "python",
   "name": "python3"
  },
  "language_info": {
   "codemirror_mode": {
    "name": "ipython",
    "version": 3
   },
   "file_extension": ".py",
   "mimetype": "text/x-python",
   "name": "python",
   "nbconvert_exporter": "python",
   "pygments_lexer": "ipython3",
   "version": "3.10.9 (main, Dec 15 2022, 17:11:09) [Clang 14.0.0 (clang-1400.0.29.202)]"
  },
  "orig_nbformat": 4,
  "vscode": {
   "interpreter": {
    "hash": "b0fa6594d8f4cbf19f97940f81e996739fb7646882a419484c72d19e05852a7e"
   }
  }
 },
 "nbformat": 4,
 "nbformat_minor": 2
}
